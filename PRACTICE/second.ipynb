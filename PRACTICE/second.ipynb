{
 "cells": [
  {
   "cell_type": "code",
   "execution_count": 2,
   "metadata": {},
   "outputs": [
    {
     "name": "stdout",
     "output_type": "stream",
     "text": [
      "(b'PING www.google.com (172.253.122.147): 56 data bytes\\n64 bytes from 172.253.122.147: icmp_seq=0 ttl=60 time=8.380 ms\\n\\n--- www.google.com ping statistics ---\\n1 packets transmitted, 1 packets received, 0.0% packet loss\\nround-trip min/avg/max/stddev = 8.380/8.380/8.380/0.000 ms\\n', None) \n",
      "\n",
      "\n",
      "(b'PING star-mini.c10r.facebook.com (31.13.66.35): 56 data bytes\\n64 bytes from 31.13.66.35: icmp_seq=0 ttl=54 time=6.067 ms\\n\\n--- star-mini.c10r.facebook.com ping statistics ---\\n1 packets transmitted, 1 packets received, 0.0% packet loss\\nround-trip min/avg/max/stddev = 6.067/6.067/6.067/0.000 ms\\n', None) \n",
      "\n",
      "\n",
      "(b'PING www.www.com (45.33.23.183): 56 data bytes\\n64 bytes from 45.33.23.183: icmp_seq=0 ttl=56 time=40.621 ms\\n\\n--- www.www.com ping statistics ---\\n1 packets transmitted, 1 packets received, 0.0% packet loss\\nround-trip min/avg/max/stddev = 40.621/40.621/40.621/0.000 ms\\n', None) \n",
      "\n",
      "\n",
      "(b'PING www.rrrre.com (1.116.34.162): 56 data bytes\\n\\n--- www.rrrre.com ping statistics ---\\n1 packets transmitted, 0 packets received, 100.0% packet loss\\n', None) \n",
      "\n",
      "\n"
     ]
    }
   ],
   "source": [
    "import subprocess\n",
    "\n",
    "\n",
    "def ping(servers):\n",
    "\n",
    "    # The command you want to execute\n",
    "    cmd = 'ping'\n",
    "\n",
    "    # send one packet of data to the host\n",
    "    # this is specified by '-c 1' in the argument list\n",
    "    outputlist = []\n",
    "    # Iterate over all the servers in the list and ping each server\n",
    "    for server in servers:\n",
    "        temp = subprocess.Popen([cmd, '-c 1', server], stdout=subprocess.PIPE)\n",
    "        # get the output as a string\n",
    "        output = str(temp.communicate())\n",
    "    # store the output in the list\n",
    "        outputlist.append(output)\n",
    "    return outputlist\n",
    "\n",
    "\n",
    "if __name__ == '__main__':\n",
    "\n",
    "    # Get the list of servers from the text file\n",
    "    servers = list(open('serverslist.txt'))\n",
    "    # Iterate over all the servers that we read from the text file\n",
    "    # and remove all the extra lines. This is just a preprocessing step\n",
    "    # to make sure there aren't any unnecessary lines.\n",
    "    for i in range(len(servers)):\n",
    "        servers[i] = servers[i].strip('\\n')\n",
    "    outputlist = ping(servers)\n",
    "\n",
    "    # Uncomment the following lines to print the output of successful servers\n",
    "    [print(output,'\\n\\n') for output in outputlist]\n"
   ]
  },
  {
   "cell_type": "code",
   "execution_count": 38,
   "metadata": {},
   "outputs": [
    {
     "name": "stdout",
     "output_type": "stream",
     "text": [
      "Package           Version\n",
      "----------------- ---------\n",
      "appnope           0.1.3\n",
      "asttokens         2.2.1\n",
      "attrs             23.1.0\n",
      "autopep8          2.0.2\n",
      "backcall          0.2.0\n",
      "click             8.1.3\n",
      "comm              0.1.2\n",
      "cx-Oracle         8.3.0\n",
      "debugpy           1.6.6\n",
      "decorator         5.1.1\n",
      "et-xmlfile        1.1.0\n",
      "executing         1.2.0\n",
      "fastjsonschema    2.16.3\n",
      "ipykernel         6.21.2\n",
      "ipython           8.11.0\n",
      "jedi              0.18.2\n",
      "joblib            1.2.0\n",
      "jsonschema        4.17.3\n",
      "jupyter_client    8.0.3\n",
      "jupyter_core      5.2.0\n",
      "matplotlib-inline 0.1.6\n",
      "nbformat          5.8.0\n",
      "nest-asyncio      1.5.6\n",
      "nltk              3.8.1\n",
      "numpy             1.24.3\n",
      "openpyxl          3.1.1\n",
      "packaging         23.0\n",
      "pandas            2.0.1\n",
      "parso             0.8.3\n",
      "patsy             0.5.3\n",
      "pexpect           4.8.0\n",
      "pickleshare       0.7.5\n",
      "pip               23.1.2\n",
      "platformdirs      3.0.0\n",
      "plotly            5.14.1\n",
      "plotly-express    0.4.1\n",
      "prompt-toolkit    3.0.38\n",
      "psutil            5.9.4\n",
      "ptyprocess        0.7.0\n",
      "pure-eval         0.2.2\n",
      "pycodestyle       2.10.0\n",
      "Pygments          2.14.0\n",
      "pyrsistent        0.19.3\n",
      "python-dateutil   2.8.2\n",
      "pytz              2023.3\n",
      "PyYAML            6.0\n",
      "pyzmq             25.0.0\n",
      "regex             2023.3.23\n",
      "scipy             1.10.1\n",
      "setuptools        65.6.3\n",
      "six               1.16.0\n",
      "SQLAlchemy        2.0.12\n",
      "stack-data        0.6.2\n",
      "statsmodels       0.14.0\n",
      "tenacity          8.2.2\n",
      "tornado           6.2\n",
      "tqdm              4.65.0\n",
      "traitlets         5.9.0\n",
      "typing_extensions 4.5.0\n",
      "tzdata            2023.3\n",
      "wcwidth           0.2.6\n",
      "wheel             0.38.4\n",
      "wordninja         2.0.0\n",
      "XlsxWriter        3.0.9\n"
     ]
    },
    {
     "data": {
      "text/plain": [
       "CompletedProcess(args=['pip', 'list'], returncode=0)"
      ]
     },
     "execution_count": 38,
     "metadata": {},
     "output_type": "execute_result"
    }
   ],
   "source": [
    "import subprocess\n",
    "# subprocess.run(['ls', '-l', '/Users/ab/Downloads/fwd/'])\n",
    "subprocess.run(['pip', 'list'])\n"
   ]
  },
  {
   "cell_type": "code",
   "execution_count": 31,
   "metadata": {},
   "outputs": [
    {
     "name": "stderr",
     "output_type": "stream",
     "text": [
      "cat: /Users/ab/Desktop/JA-COLAB/serverlist.txt: No such file or directory\n"
     ]
    }
   ],
   "source": [
    "import os\n",
    "import subprocess\n",
    "subprocess.run([\"cat\", \"data.txt\"])\n",
    "cmd = 'ls l'\n",
    "# os.system(cmd)\n",
    "# subprocess.Popen(f'{cmd} /Users/ab/Desktop/JA-COLAB/*.py', shell=True,\n",
    "#                  stdout=subprocess.PIPE,\n",
    "#                  stderr=subprocess.PIPE)\n"
   ]
  },
  {
   "cell_type": "code",
   "execution_count": 39,
   "metadata": {},
   "outputs": [
    {
     "ename": "FileNotFoundError",
     "evalue": "[Errno 2] No such file or directory: 'cat / etc/os-release'",
     "output_type": "error",
     "traceback": [
      "\u001b[0;31m---------------------------------------------------------------------------\u001b[0m",
      "\u001b[0;31mFileNotFoundError\u001b[0m                         Traceback (most recent call last)",
      "Cell \u001b[0;32mIn[39], line 41\u001b[0m\n\u001b[1;32m     37\u001b[0m     \u001b[38;5;28;01mreturn\u001b[39;00m distribution\n\u001b[1;32m     40\u001b[0m \u001b[38;5;28;01mif\u001b[39;00m \u001b[38;5;18m__name__\u001b[39m \u001b[38;5;241m==\u001b[39m \u001b[38;5;124m'\u001b[39m\u001b[38;5;124m__main__\u001b[39m\u001b[38;5;124m'\u001b[39m:\n\u001b[0;32m---> 41\u001b[0m     \u001b[38;5;28mprint\u001b[39m(\u001b[43mListPackages\u001b[49m\u001b[43m(\u001b[49m\u001b[43m)\u001b[49m)\n",
      "Cell \u001b[0;32mIn[39], line 6\u001b[0m, in \u001b[0;36mListPackages\u001b[0;34m()\u001b[0m\n\u001b[1;32m      3\u001b[0m \u001b[38;5;28;01mimport\u001b[39;00m \u001b[38;5;21;01msubprocess\u001b[39;00m\n\u001b[1;32m      5\u001b[0m \u001b[38;5;66;03m# initializing variables\u001b[39;00m\n\u001b[0;32m----> 6\u001b[0m distributiontype \u001b[38;5;241m=\u001b[39m \u001b[43mCheckDistribution\u001b[49m\u001b[43m(\u001b[49m\u001b[43m)\u001b[49m\n\u001b[1;32m      7\u001b[0m PythonPackages \u001b[38;5;241m=\u001b[39m subprocess\u001b[38;5;241m.\u001b[39mrun([\u001b[38;5;124m'\u001b[39m\u001b[38;5;124mpip\u001b[39m\u001b[38;5;124m'\u001b[39m, \u001b[38;5;124m'\u001b[39m\u001b[38;5;124mlist\u001b[39m\u001b[38;5;124m'\u001b[39m])\n\u001b[1;32m      8\u001b[0m LinuxPackages \u001b[38;5;241m=\u001b[39m \u001b[38;5;124m'\u001b[39m\u001b[38;5;124m'\u001b[39m\n",
      "Cell \u001b[0;32mIn[39], line 29\u001b[0m, in \u001b[0;36mCheckDistribution\u001b[0;34m()\u001b[0m\n\u001b[1;32m     26\u001b[0m \u001b[38;5;28;01mimport\u001b[39;00m \u001b[38;5;21;01msubprocess\u001b[39;00m\n\u001b[1;32m     28\u001b[0m \u001b[38;5;66;03m# splittine command ouput by '\\n' and saving it to 'output' \u001b[39;00m\n\u001b[0;32m---> 29\u001b[0m output \u001b[38;5;241m=\u001b[39m \u001b[43msubprocess\u001b[49m\u001b[38;5;241;43m.\u001b[39;49m\u001b[43mrun\u001b[49m\u001b[43m(\u001b[49m\u001b[43m[\u001b[49m\u001b[38;5;124;43m'\u001b[39;49m\u001b[38;5;124;43mcat / etc/os-release\u001b[39;49m\u001b[38;5;124;43m'\u001b[39;49m\u001b[43m]\u001b[49m\u001b[43m)\u001b[49m\u001b[38;5;241m.\u001b[39msplit(\u001b[38;5;124m'\u001b[39m\u001b[38;5;130;01m\\n\u001b[39;00m\u001b[38;5;124m'\u001b[39m)\n\u001b[1;32m     30\u001b[0m \u001b[38;5;28;01mfor\u001b[39;00m line \u001b[38;5;129;01min\u001b[39;00m output:\n\u001b[1;32m     31\u001b[0m     \u001b[38;5;28;01mif\u001b[39;00m \u001b[38;5;124m'\u001b[39m\u001b[38;5;124mID_LIKE\u001b[39m\u001b[38;5;124m'\u001b[39m \u001b[38;5;129;01min\u001b[39;00m line:\n\u001b[1;32m     32\u001b[0m         \n\u001b[1;32m     33\u001b[0m         \u001b[38;5;66;03m# extracting the 'ID_LIKE' part and saving it to distribution\u001b[39;00m\n",
      "File \u001b[0;32m/opt/homebrew/Cellar/python@3.11/3.11.2_1/Frameworks/Python.framework/Versions/3.11/lib/python3.11/subprocess.py:548\u001b[0m, in \u001b[0;36mrun\u001b[0;34m(input, capture_output, timeout, check, *popenargs, **kwargs)\u001b[0m\n\u001b[1;32m    545\u001b[0m     kwargs[\u001b[39m'\u001b[39m\u001b[39mstdout\u001b[39m\u001b[39m'\u001b[39m] \u001b[39m=\u001b[39m PIPE\n\u001b[1;32m    546\u001b[0m     kwargs[\u001b[39m'\u001b[39m\u001b[39mstderr\u001b[39m\u001b[39m'\u001b[39m] \u001b[39m=\u001b[39m PIPE\n\u001b[0;32m--> 548\u001b[0m \u001b[39mwith\u001b[39;00m Popen(\u001b[39m*\u001b[39;49mpopenargs, \u001b[39m*\u001b[39;49m\u001b[39m*\u001b[39;49mkwargs) \u001b[39mas\u001b[39;00m process:\n\u001b[1;32m    549\u001b[0m     \u001b[39mtry\u001b[39;00m:\n\u001b[1;32m    550\u001b[0m         stdout, stderr \u001b[39m=\u001b[39m process\u001b[39m.\u001b[39mcommunicate(\u001b[39minput\u001b[39m, timeout\u001b[39m=\u001b[39mtimeout)\n",
      "File \u001b[0;32m/opt/homebrew/Cellar/python@3.11/3.11.2_1/Frameworks/Python.framework/Versions/3.11/lib/python3.11/subprocess.py:1024\u001b[0m, in \u001b[0;36mPopen.__init__\u001b[0;34m(self, args, bufsize, executable, stdin, stdout, stderr, preexec_fn, close_fds, shell, cwd, env, universal_newlines, startupinfo, creationflags, restore_signals, start_new_session, pass_fds, user, group, extra_groups, encoding, errors, text, umask, pipesize, process_group)\u001b[0m\n\u001b[1;32m   1020\u001b[0m         \u001b[39mif\u001b[39;00m \u001b[39mself\u001b[39m\u001b[39m.\u001b[39mtext_mode:\n\u001b[1;32m   1021\u001b[0m             \u001b[39mself\u001b[39m\u001b[39m.\u001b[39mstderr \u001b[39m=\u001b[39m io\u001b[39m.\u001b[39mTextIOWrapper(\u001b[39mself\u001b[39m\u001b[39m.\u001b[39mstderr,\n\u001b[1;32m   1022\u001b[0m                     encoding\u001b[39m=\u001b[39mencoding, errors\u001b[39m=\u001b[39merrors)\n\u001b[0;32m-> 1024\u001b[0m     \u001b[39mself\u001b[39;49m\u001b[39m.\u001b[39;49m_execute_child(args, executable, preexec_fn, close_fds,\n\u001b[1;32m   1025\u001b[0m                         pass_fds, cwd, env,\n\u001b[1;32m   1026\u001b[0m                         startupinfo, creationflags, shell,\n\u001b[1;32m   1027\u001b[0m                         p2cread, p2cwrite,\n\u001b[1;32m   1028\u001b[0m                         c2pread, c2pwrite,\n\u001b[1;32m   1029\u001b[0m                         errread, errwrite,\n\u001b[1;32m   1030\u001b[0m                         restore_signals,\n\u001b[1;32m   1031\u001b[0m                         gid, gids, uid, umask,\n\u001b[1;32m   1032\u001b[0m                         start_new_session, process_group)\n\u001b[1;32m   1033\u001b[0m \u001b[39mexcept\u001b[39;00m:\n\u001b[1;32m   1034\u001b[0m     \u001b[39m# Cleanup if the child failed starting.\u001b[39;00m\n\u001b[1;32m   1035\u001b[0m     \u001b[39mfor\u001b[39;00m f \u001b[39min\u001b[39;00m \u001b[39mfilter\u001b[39m(\u001b[39mNone\u001b[39;00m, (\u001b[39mself\u001b[39m\u001b[39m.\u001b[39mstdin, \u001b[39mself\u001b[39m\u001b[39m.\u001b[39mstdout, \u001b[39mself\u001b[39m\u001b[39m.\u001b[39mstderr)):\n",
      "File \u001b[0;32m/opt/homebrew/Cellar/python@3.11/3.11.2_1/Frameworks/Python.framework/Versions/3.11/lib/python3.11/subprocess.py:1901\u001b[0m, in \u001b[0;36mPopen._execute_child\u001b[0;34m(self, args, executable, preexec_fn, close_fds, pass_fds, cwd, env, startupinfo, creationflags, shell, p2cread, p2cwrite, c2pread, c2pwrite, errread, errwrite, restore_signals, gid, gids, uid, umask, start_new_session, process_group)\u001b[0m\n\u001b[1;32m   1899\u001b[0m     \u001b[39mif\u001b[39;00m errno_num \u001b[39m!=\u001b[39m \u001b[39m0\u001b[39m:\n\u001b[1;32m   1900\u001b[0m         err_msg \u001b[39m=\u001b[39m os\u001b[39m.\u001b[39mstrerror(errno_num)\n\u001b[0;32m-> 1901\u001b[0m     \u001b[39mraise\u001b[39;00m child_exception_type(errno_num, err_msg, err_filename)\n\u001b[1;32m   1902\u001b[0m \u001b[39mraise\u001b[39;00m child_exception_type(err_msg)\n",
      "\u001b[0;31mFileNotFoundError\u001b[0m: [Errno 2] No such file or directory: 'cat / etc/os-release'"
     ]
    }
   ],
   "source": [
    "\n",
    "# lists both python and linux packages\n",
    "def ListPackages():\n",
    "    import subprocess\n",
    "\n",
    "    # initializing variables\n",
    "    distributiontype = CheckDistribution()\n",
    "    PythonPackages = subprocess.run(['pip', 'list'])\n",
    "    LinuxPackages = ''\n",
    "\n",
    "    # checking distribution type and running apropriate linux command to list linux packages\n",
    "    if distributiontype == 'Redhat':\n",
    "        LinuxPackages = subprocess.run(['rpm - qa - -last'])\n",
    "        # return subprocess.run(['rpm -qa --qf \"%{NAME}\\n\"'])\n",
    "        \n",
    "    elif distributiontype == 'Debian':\n",
    "        LinuxPackages = subprocess.run(['grep install / var/log/dpkg.log'])\n",
    "        # return subprocess.run(['dpkg - l'])\n",
    "        \n",
    "    else:\n",
    "        LinuxPackages = subprocess.run(['ls -l /usr/bin/'])\n",
    "\n",
    "    return f\"LinuxPackages \\n{LinuxPackages} \\n\\n\\PythonPackages \\n{PythonPackages} \"\n",
    "\n",
    "# a helper function that checks distribution type\n",
    "def CheckDistribution():\n",
    "    import subprocess\n",
    "\n",
    "    # splittine command ouput by '\\n' and saving it to 'output' \n",
    "    output = subprocess.run(['cat / etc/os-release']).split('\\n')\n",
    "    for line in output:\n",
    "        if 'ID_LIKE' in line:\n",
    "            \n",
    "            # extracting the 'ID_LIKE' part and saving it to distribution\n",
    "            distribution = line.split('=')[-1]\n",
    "            break\n",
    "\n",
    "    return distribution\n",
    "\n",
    "\n",
    "if __name__ == '__main__':\n",
    "    print(ListPackages())\n"
   ]
  },
  {
   "cell_type": "code",
   "execution_count": 24,
   "metadata": {},
   "outputs": [
    {
     "name": "stdout",
     "output_type": "stream",
     "text": [
      "total 48\n",
      "-rw-r--r--  1 ab  staff   401 May 24 15:09 README.md\n",
      "-rw-r--r--  1 ab  staff  1210 May 20 15:38 first.ipynb\n",
      "-rw-r--r--  1 ab  staff  1894 May 20 23:26 one.ipynb\n",
      "-rw-r--r--  1 ab  staff  1106 May 26 20:37 pingservers.py\n",
      "-rw-r--r--  1 ab  staff   300 May 20 23:05 second.ipynb\n",
      "-rw-r--r--  1 ab  staff    57 May 26 20:37 serverslist.txt\n",
      "\n"
     ]
    }
   ],
   "source": [
    "import subprocess\n",
    "result = subprocess.run(['ls', '-l'], stdout=subprocess.PIPE)\n",
    "print(result.stdout.decode('utf-8'))\n"
   ]
  },
  {
   "cell_type": "code",
   "execution_count": null,
   "metadata": {},
   "outputs": [],
   "source": []
  }
 ],
 "metadata": {
  "kernelspec": {
   "display_name": "Python 3.11.2 64-bit",
   "language": "python",
   "name": "python3"
  },
  "language_info": {
   "codemirror_mode": {
    "name": "ipython",
    "version": 3
   },
   "file_extension": ".py",
   "mimetype": "text/x-python",
   "name": "python",
   "nbconvert_exporter": "python",
   "pygments_lexer": "ipython3",
   "version": "3.11.2"
  },
  "orig_nbformat": 4,
  "vscode": {
   "interpreter": {
    "hash": "b0fa6594d8f4cbf19f97940f81e996739fb7646882a419484c72d19e05852a7e"
   }
  }
 },
 "nbformat": 4,
 "nbformat_minor": 2
}
